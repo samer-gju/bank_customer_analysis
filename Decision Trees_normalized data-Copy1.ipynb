{
 "cells": [
  {
   "cell_type": "code",
   "execution_count": 1,
   "id": "854758be",
   "metadata": {},
   "outputs": [],
   "source": [
    "import pandas as pd\n",
    " \n",
    "df1 = pd.read_excel(file name)"
   ]
  },
  {
   "cell_type": "code",
   "execution_count": 2,
   "id": "02549629",
   "metadata": {},
   "outputs": [],
   "source": [
    "df1.drop('UNIQUE_ID', axis=1, inplace=True)"
   ]
  },
  {
   "cell_type": "code",
   "execution_count": 3,
   "id": "86d42540",
   "metadata": {},
   "outputs": [],
   "source": [
    "df2=df1[df1.columns[11]]"
   ]
  },
  {
   "cell_type": "code",
   "execution_count": 4,
   "id": "b6825a3f",
   "metadata": {},
   "outputs": [],
   "source": [
    "df1.drop('CustomerType', axis=1, inplace=True)"
   ]
  },
  {
   "cell_type": "code",
   "execution_count": 5,
   "id": "e1635059",
   "metadata": {},
   "outputs": [],
   "source": [
    "names=['CREDIT_CARD','CASH_DEPOSIT','ATM_WITHDRAWAL','ATM_DEPOSIT','BILLS','DEBIT_CARD','OUTWARD_TRANSFER','INWARD_TRANSFER','CASH_WITHDRAWAL','CREDIT_CHEQUES','DEBIT_CHEQUES']"
   ]
  },
  {
   "cell_type": "code",
   "execution_count": 6,
   "id": "c988b467",
   "metadata": {},
   "outputs": [
    {
     "data": {
      "text/html": [
       "<div>\n",
       "<style scoped>\n",
       "    .dataframe tbody tr th:only-of-type {\n",
       "        vertical-align: middle;\n",
       "    }\n",
       "\n",
       "    .dataframe tbody tr th {\n",
       "        vertical-align: top;\n",
       "    }\n",
       "\n",
       "    .dataframe thead th {\n",
       "        text-align: right;\n",
       "    }\n",
       "</style>\n",
       "<table border=\"1\" class=\"dataframe\">\n",
       "  <thead>\n",
       "    <tr style=\"text-align: right;\">\n",
       "      <th></th>\n",
       "      <th>CREDIT_CARD</th>\n",
       "      <th>CASH_DEPOSIT</th>\n",
       "      <th>ATM_WITHDRAWAL</th>\n",
       "      <th>ATM_DEPOSIT</th>\n",
       "      <th>BILLS</th>\n",
       "      <th>DEBIT_CARD</th>\n",
       "      <th>OUTWARD_TRANSFER</th>\n",
       "      <th>INWARD_TRANSFER</th>\n",
       "      <th>CASH_WITHDRAWAL</th>\n",
       "      <th>CREDIT_CHEQUES</th>\n",
       "      <th>DEBIT_CHEQUES</th>\n",
       "    </tr>\n",
       "  </thead>\n",
       "  <tbody>\n",
       "    <tr>\n",
       "      <th>0</th>\n",
       "      <td>13.288852</td>\n",
       "      <td>4.049718</td>\n",
       "      <td>2.928861</td>\n",
       "      <td>3.674210</td>\n",
       "      <td>1.652925</td>\n",
       "      <td>0.401977</td>\n",
       "      <td>1.172281</td>\n",
       "      <td>-0.016748</td>\n",
       "      <td>-0.171479</td>\n",
       "      <td>-0.074236</td>\n",
       "      <td>-0.122288</td>\n",
       "    </tr>\n",
       "    <tr>\n",
       "      <th>1</th>\n",
       "      <td>-0.071589</td>\n",
       "      <td>-0.205240</td>\n",
       "      <td>-0.269490</td>\n",
       "      <td>-0.299728</td>\n",
       "      <td>-0.154554</td>\n",
       "      <td>-0.256888</td>\n",
       "      <td>0.054030</td>\n",
       "      <td>-0.022797</td>\n",
       "      <td>-0.171479</td>\n",
       "      <td>-0.074236</td>\n",
       "      <td>-0.122288</td>\n",
       "    </tr>\n",
       "    <tr>\n",
       "      <th>2</th>\n",
       "      <td>-0.071589</td>\n",
       "      <td>-0.205240</td>\n",
       "      <td>-0.343467</td>\n",
       "      <td>-0.277092</td>\n",
       "      <td>-0.169435</td>\n",
       "      <td>-0.298838</td>\n",
       "      <td>-0.125883</td>\n",
       "      <td>-0.033319</td>\n",
       "      <td>-0.171479</td>\n",
       "      <td>-0.074236</td>\n",
       "      <td>-0.122288</td>\n",
       "    </tr>\n",
       "    <tr>\n",
       "      <th>3</th>\n",
       "      <td>-0.071589</td>\n",
       "      <td>-0.205240</td>\n",
       "      <td>-0.349860</td>\n",
       "      <td>0.149180</td>\n",
       "      <td>-0.173152</td>\n",
       "      <td>-0.298838</td>\n",
       "      <td>-0.127533</td>\n",
       "      <td>-0.034433</td>\n",
       "      <td>-0.171479</td>\n",
       "      <td>-0.074236</td>\n",
       "      <td>-0.122288</td>\n",
       "    </tr>\n",
       "    <tr>\n",
       "      <th>4</th>\n",
       "      <td>-0.071589</td>\n",
       "      <td>-0.205240</td>\n",
       "      <td>0.466624</td>\n",
       "      <td>-0.279371</td>\n",
       "      <td>-0.173152</td>\n",
       "      <td>-0.298838</td>\n",
       "      <td>-0.127533</td>\n",
       "      <td>-0.034433</td>\n",
       "      <td>-0.171479</td>\n",
       "      <td>-0.074236</td>\n",
       "      <td>-0.122288</td>\n",
       "    </tr>\n",
       "    <tr>\n",
       "      <th>...</th>\n",
       "      <td>...</td>\n",
       "      <td>...</td>\n",
       "      <td>...</td>\n",
       "      <td>...</td>\n",
       "      <td>...</td>\n",
       "      <td>...</td>\n",
       "      <td>...</td>\n",
       "      <td>...</td>\n",
       "      <td>...</td>\n",
       "      <td>...</td>\n",
       "      <td>...</td>\n",
       "    </tr>\n",
       "    <tr>\n",
       "      <th>4755</th>\n",
       "      <td>-0.071589</td>\n",
       "      <td>-0.126718</td>\n",
       "      <td>0.058382</td>\n",
       "      <td>-0.122139</td>\n",
       "      <td>-0.173152</td>\n",
       "      <td>-0.298838</td>\n",
       "      <td>-0.127533</td>\n",
       "      <td>-0.034433</td>\n",
       "      <td>-0.171479</td>\n",
       "      <td>-0.074236</td>\n",
       "      <td>-0.122288</td>\n",
       "    </tr>\n",
       "    <tr>\n",
       "      <th>4756</th>\n",
       "      <td>-0.071589</td>\n",
       "      <td>0.205346</td>\n",
       "      <td>-0.216519</td>\n",
       "      <td>0.360190</td>\n",
       "      <td>0.987360</td>\n",
       "      <td>-0.065680</td>\n",
       "      <td>-0.127533</td>\n",
       "      <td>-0.033256</td>\n",
       "      <td>-0.171479</td>\n",
       "      <td>-0.074236</td>\n",
       "      <td>-0.122288</td>\n",
       "    </tr>\n",
       "    <tr>\n",
       "      <th>4757</th>\n",
       "      <td>-0.071589</td>\n",
       "      <td>0.015908</td>\n",
       "      <td>-0.295062</td>\n",
       "      <td>1.918835</td>\n",
       "      <td>0.240303</td>\n",
       "      <td>4.714457</td>\n",
       "      <td>-0.072499</td>\n",
       "      <td>-0.032957</td>\n",
       "      <td>-0.171479</td>\n",
       "      <td>-0.074236</td>\n",
       "      <td>-0.122288</td>\n",
       "    </tr>\n",
       "    <tr>\n",
       "      <th>4758</th>\n",
       "      <td>-0.071589</td>\n",
       "      <td>-0.205240</td>\n",
       "      <td>-0.077699</td>\n",
       "      <td>0.651866</td>\n",
       "      <td>-0.032738</td>\n",
       "      <td>0.287634</td>\n",
       "      <td>-0.043062</td>\n",
       "      <td>-0.033152</td>\n",
       "      <td>-0.171479</td>\n",
       "      <td>-0.074236</td>\n",
       "      <td>-0.122288</td>\n",
       "    </tr>\n",
       "    <tr>\n",
       "      <th>4759</th>\n",
       "      <td>-0.071589</td>\n",
       "      <td>-0.205240</td>\n",
       "      <td>-0.349860</td>\n",
       "      <td>0.195362</td>\n",
       "      <td>-0.163782</td>\n",
       "      <td>-0.298838</td>\n",
       "      <td>0.160243</td>\n",
       "      <td>0.003431</td>\n",
       "      <td>-0.171479</td>\n",
       "      <td>-0.074236</td>\n",
       "      <td>-0.122288</td>\n",
       "    </tr>\n",
       "  </tbody>\n",
       "</table>\n",
       "<p>4760 rows × 11 columns</p>\n",
       "</div>"
      ],
      "text/plain": [
       "      CREDIT_CARD  CASH_DEPOSIT  ATM_WITHDRAWAL  ATM_DEPOSIT     BILLS  \\\n",
       "0       13.288852      4.049718        2.928861     3.674210  1.652925   \n",
       "1       -0.071589     -0.205240       -0.269490    -0.299728 -0.154554   \n",
       "2       -0.071589     -0.205240       -0.343467    -0.277092 -0.169435   \n",
       "3       -0.071589     -0.205240       -0.349860     0.149180 -0.173152   \n",
       "4       -0.071589     -0.205240        0.466624    -0.279371 -0.173152   \n",
       "...           ...           ...             ...          ...       ...   \n",
       "4755    -0.071589     -0.126718        0.058382    -0.122139 -0.173152   \n",
       "4756    -0.071589      0.205346       -0.216519     0.360190  0.987360   \n",
       "4757    -0.071589      0.015908       -0.295062     1.918835  0.240303   \n",
       "4758    -0.071589     -0.205240       -0.077699     0.651866 -0.032738   \n",
       "4759    -0.071589     -0.205240       -0.349860     0.195362 -0.163782   \n",
       "\n",
       "      DEBIT_CARD  OUTWARD_TRANSFER  INWARD_TRANSFER  CASH_WITHDRAWAL  \\\n",
       "0       0.401977          1.172281        -0.016748        -0.171479   \n",
       "1      -0.256888          0.054030        -0.022797        -0.171479   \n",
       "2      -0.298838         -0.125883        -0.033319        -0.171479   \n",
       "3      -0.298838         -0.127533        -0.034433        -0.171479   \n",
       "4      -0.298838         -0.127533        -0.034433        -0.171479   \n",
       "...          ...               ...              ...              ...   \n",
       "4755   -0.298838         -0.127533        -0.034433        -0.171479   \n",
       "4756   -0.065680         -0.127533        -0.033256        -0.171479   \n",
       "4757    4.714457         -0.072499        -0.032957        -0.171479   \n",
       "4758    0.287634         -0.043062        -0.033152        -0.171479   \n",
       "4759   -0.298838          0.160243         0.003431        -0.171479   \n",
       "\n",
       "      CREDIT_CHEQUES  DEBIT_CHEQUES  \n",
       "0          -0.074236      -0.122288  \n",
       "1          -0.074236      -0.122288  \n",
       "2          -0.074236      -0.122288  \n",
       "3          -0.074236      -0.122288  \n",
       "4          -0.074236      -0.122288  \n",
       "...              ...            ...  \n",
       "4755       -0.074236      -0.122288  \n",
       "4756       -0.074236      -0.122288  \n",
       "4757       -0.074236      -0.122288  \n",
       "4758       -0.074236      -0.122288  \n",
       "4759       -0.074236      -0.122288  \n",
       "\n",
       "[4760 rows x 11 columns]"
      ]
     },
     "execution_count": 6,
     "metadata": {},
     "output_type": "execute_result"
    }
   ],
   "source": [
    "from sklearn.preprocessing import StandardScaler\n",
    "scaler = StandardScaler()\n",
    "scaler.fit(df1)\n",
    "array2=scaler.transform(df1)\n",
    "df_standardScaled= pd.DataFrame(array2, columns=names)\n",
    "df_standardScaled"
   ]
  },
  {
   "cell_type": "code",
   "execution_count": 7,
   "id": "e56d6dc5",
   "metadata": {},
   "outputs": [],
   "source": [
    "from sklearn.model_selection import train_test_split\n",
    "x_train,x_test,y_train,y_test=train_test_split(df_standardScaled,df2,test_size=0.2,random_state=0)"
   ]
  },
  {
   "cell_type": "code",
   "execution_count": 8,
   "id": "517c5b94",
   "metadata": {},
   "outputs": [],
   "source": [
    "from sklearn import tree\n",
    "clf = tree.DecisionTreeClassifier(random_state=0)\n",
    "clf = clf.fit(x_train,y_train)"
   ]
  },
  {
   "cell_type": "code",
   "execution_count": 9,
   "id": "eadc5bd0",
   "metadata": {},
   "outputs": [],
   "source": [
    "y_predict=clf.predict(x_test)"
   ]
  },
  {
   "cell_type": "code",
   "execution_count": 14,
   "id": "bb2114f2",
   "metadata": {},
   "outputs": [
    {
     "name": "stdout",
     "output_type": "stream",
     "text": [
      "0.9537815126050421\n",
      "0.9653179190751445\n",
      "0.9506641366223909\n",
      "0.9579349904397705\n",
      "0.9541555977229601\n"
     ]
    }
   ],
   "source": [
    "from sklearn.metrics import precision_score, recall_score, f1_score, accuracy_score\n",
    "print(accuracy_score(y_test, y_predict))\n",
    "print(precision_score(y_test, y_predict))\n",
    "print(recall_score(y_test, y_predict))\n",
    "print(f1_score(y_test, y_predict))\n",
    "print(metrics.roc_auc_score(y_test,y_predict))"
   ]
  },
  {
   "cell_type": "code",
   "execution_count": 17,
   "id": "2f3fd731",
   "metadata": {},
   "outputs": [
    {
     "name": "stdout",
     "output_type": "stream",
     "text": [
      "0.9541555977229601\n"
     ]
    }
   ],
   "source": [
    "y_prob=clf.predict_proba(x_test)\n",
    "print(metrics.roc_auc_score(y_test,y_prob[:,1]))"
   ]
  },
  {
   "cell_type": "code",
   "execution_count": 18,
   "id": "d687e0d2",
   "metadata": {},
   "outputs": [
    {
     "data": {
      "image/png": "[encoded data removed]",
      "text/plain": [
       "<Figure size 432x288 with 1 Axes>"
      ]
     },
     "metadata": {
      "needs_background": "light"
     },
     "output_type": "display_data"
    }
   ],
   "source": [
    "import numpy as np\n",
    "import matplotlib.pyplot as plt\n",
    "from sklearn.model_selection import learning_curve\n",
    "\n",
    "def plot_learning_curve(estimator, X, y, scoring,train_sizes=np.linspace(0.1, 1.0, 5)):\n",
    "    train_sizes, train_scores, test_scores = learning_curve(estimator, X, y,scoring=scoring, train_sizes=train_sizes)\n",
    "    \n",
    "    train_scores_mean = np.mean(train_scores, axis=1)\n",
    "    train_scores_std = np.std(train_scores, axis=1)\n",
    "    test_scores_mean = np.mean(test_scores, axis=1)\n",
    "    test_scores_std = np.std(test_scores, axis=1)\n",
    "    \n",
    "    plt.figure()\n",
    "    plt.title('')\n",
    "    plt.xlabel('Number of Training Examples')\n",
    "    plt.ylabel('Accuracy Score')\n",
    "    plt.grid()\n",
    "    \n",
    "    plt.fill_between(train_sizes, train_scores_mean - train_scores_std,\n",
    "                     train_scores_mean + train_scores_std, alpha=0.1, color='r')\n",
    "    plt.fill_between(train_sizes, test_scores_mean - test_scores_std,\n",
    "                     test_scores_mean + test_scores_std, alpha=0.1, color='g')\n",
    "    plt.plot(train_sizes, train_scores_mean, 'o-', color='r', label='Training score')\n",
    "    plt.plot(train_sizes, test_scores_mean, 'o-', color='g', label='Cross-validation score')\n",
    "    \n",
    "    plt.legend(loc='lower right')\n",
    "    plt.savefig('C:\\\\Users\\\\Samer\\\\Documents\\\\My Project\\\\Bank Eti7ad Project\\\\Article\\\\revised for MIP\\\\figures\\\\learning curve decision tree normalized data.png')\n",
    "    plt.show()\n",
    "\n",
    "plot_learning_curve(clf,df_standardScaled,df2,scoring='accuracy')"
   ]
  },
  {
   "cell_type": "code",
   "execution_count": 12,
   "id": "aa933c7c",
   "metadata": {},
   "outputs": [
    {
     "data": {
      "image/png": "[encoded data removed]",
      "text/plain": [
       "<Figure size 432x288 with 1 Axes>"
      ]
     },
     "metadata": {
      "needs_background": "light"
     },
     "output_type": "display_data"
    }
   ],
   "source": [
    "from sklearn.inspection import permutation_importance\n",
    "import matplotlib.pyplot as plt\n",
    "result = permutation_importance(\n",
    "    clf, x_test, y_test, n_repeats=10, random_state=0, n_jobs=2\n",
    ")\n",
    "\n",
    "importances = pd.Series(result.importances_mean, index=names)\n",
    "fig, ax = plt.subplots()\n",
    "importances.plot.bar(yerr=result.importances_std, ax=ax)\n",
    "ax.set_title(\"Features\")\n",
    "ax.set_ylabel(\"Importance\")\n",
    "fig.tight_layout()\n",
    "\n",
    "plt.savefig('C:\\\\Users\\\\Samer\\\\Documents\\\\My Project\\\\Bank Eti7ad Project\\\\Article\\\\revised for MIP\\\\figures\\\\feature importance of decision tree normalized data.png')\n",
    "plt.show()"
   ]
  },
  {
   "cell_type": "code",
   "execution_count": 19,
   "id": "3b5cc6dc",
   "metadata": {},
   "outputs": [
    {
     "data": {
      "image/png": "[encoded data removed]",
      "text/plain": [
       "<Figure size 432x288 with 1 Axes>"
      ]
     },
     "metadata": {
      "needs_background": "light"
     },
     "output_type": "display_data"
    }
   ],
   "source": [
    "from sklearn import metrics\n",
    "import matplotlib.pyplot as plt\n",
    "fpr, tpr, _ = metrics.roc_curve(y_test, y_prob[:,1])\n",
    "\n",
    "#create ROC curve\n",
    "plt.plot(fpr,tpr)\n",
    "plt.ylabel('True Positive Rate')\n",
    "plt.xlabel('False Positive Rate')\n",
    "plt.savefig('C:\\\\Users\\\\Samer\\\\Documents\\\\My Project\\\\Bank Eti7ad Project\\\\Article\\\\revised for MIP\\\\figures\\\\roc curve of decision tree normalized data.png')\n",
    "plt.show()"
   ]
  },
  {
   "cell_type": "code",
   "execution_count": null,
   "id": "1b9e4db3",
   "metadata": {},
   "outputs": [],
   "source": []
  }
 ],
 "metadata": {
  "kernelspec": {
   "display_name": "Python 3 (ipykernel)",
   "language": "python",
   "name": "python3"
  },
  "language_info": {
   "codemirror_mode": {
    "name": "ipython",
    "version": 3
   },
   "file_extension": ".py",
   "mimetype": "text/x-python",
   "name": "python",
   "nbconvert_exporter": "python",
   "pygments_lexer": "ipython3",
   "version": "3.9.7"
  }
 },
 "nbformat": 4,
 "nbformat_minor": 5
}
